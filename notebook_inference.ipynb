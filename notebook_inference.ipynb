{
  "cells": [
    {
      "cell_type": "markdown",
      "metadata": {},
      "source": [
        "## **MODEL INFERENCE**"
      ]
    },
    {
      "cell_type": "code",
      "execution_count": 1,
      "metadata": {
        "id": "bCjsid16JCgB"
      },
      "outputs": [],
      "source": [
        "import pickle\n",
        "import pandas as pd\n",
        "import numpy as np"
      ]
    },
    {
      "cell_type": "code",
      "execution_count": 2,
      "metadata": {
        "id": "PYIG8zVuI4aB"
      },
      "outputs": [],
      "source": [
        "# Load model\n",
        "with open('model_lr.pkl', 'rb') as file:\n",
        "    loaded_model = pickle.load(file)"
      ]
    },
    {
      "cell_type": "code",
      "execution_count": 3,
      "metadata": {
        "id": "sY4JeIO2JJrQ"
      },
      "outputs": [],
      "source": [
        "# data test\n",
        "data = pd.DataFrame({\n",
        "    'units_sold': [100],\n",
        "    'discount_applied': [0.05],\n",
        "    'revenue': [400.2],\n",
        "    'clicks': [12],\n",
        "    'impressions': [100],\n",
        "    'conversion_rate': [0.12],\n",
        "    'category': ['Toys'],\n",
        "    'region': ['North America'],\n",
        "    'ad_ctr': [0.23],\n",
        "    'ad_cpc': [0.11],\n",
        "    'transaction_date_update': ['Mar-2025'],\n",
        "    'roi': [980.3]\n",
        "})\n",
        "\n",
        "predict = loaded_model.predict(data)"
      ]
    },
    {
      "cell_type": "code",
      "execution_count": 4,
      "metadata": {
        "colab": {
          "base_uri": "https://localhost:8080/"
        },
        "id": "23_QedsYJvHZ",
        "outputId": "5001b08d-77e3-4a21-d487-60dde50272e1"
      },
      "outputs": [
        {
          "name": "stdout",
          "output_type": "stream",
          "text": [
            "[143.00764824]\n"
          ]
        }
      ],
      "source": [
        "print(predict)"
      ]
    }
  ],
  "metadata": {
    "colab": {
      "provenance": []
    },
    "kernelspec": {
      "display_name": "base",
      "language": "python",
      "name": "python3"
    },
    "language_info": {
      "codemirror_mode": {
        "name": "ipython",
        "version": 3
      },
      "file_extension": ".py",
      "mimetype": "text/x-python",
      "name": "python",
      "nbconvert_exporter": "python",
      "pygments_lexer": "ipython3",
      "version": "3.12.7"
    }
  },
  "nbformat": 4,
  "nbformat_minor": 0
}
